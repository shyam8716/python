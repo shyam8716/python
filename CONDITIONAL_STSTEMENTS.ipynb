{
  "nbformat": 4,
  "nbformat_minor": 0,
  "metadata": {
    "colab": {
      "provenance": [],
      "authorship_tag": "ABX9TyOSFuamR7xvRHisj0V+zQUh",
      "include_colab_link": true
    },
    "kernelspec": {
      "name": "python3",
      "display_name": "Python 3"
    },
    "language_info": {
      "name": "python"
    }
  },
  "cells": [
    {
      "cell_type": "markdown",
      "metadata": {
        "id": "view-in-github",
        "colab_type": "text"
      },
      "source": [
        "<a href=\"https://colab.research.google.com/github/shyam8716/python/blob/main/CONDITIONAL_STSTEMENTS.ipynb\" target=\"_parent\"><img src=\"https://colab.research.google.com/assets/colab-badge.svg\" alt=\"Open In Colab\"/></a>"
      ]
    },
    {
      "cell_type": "code",
      "execution_count": null,
      "metadata": {
        "id": "Lzp6ArGpMcox"
      },
      "outputs": [],
      "source": [
        "#Basic if-else questions:\n",
        "#Write a python program that checks if a number is positive/negative/zero.\n",
        "a=int(input(\"enter a value:\"))\n",
        "if a==0:\n",
        "    print(a,\":value is zero\")\n",
        "elif a>0:\n",
        "        print(a,\":value is positive\")\n",
        "elif a<0:\n",
        "        print(a,\":value is negative\")\n",
        "else:\n",
        "    pass"
      ]
    },
    {
      "cell_type": "code",
      "source": [
        "#Write a program that checks wheather a given number is even/odd.\n",
        "b=int(input(\"enter b value:\"))\n",
        "if b%2==0:\n",
        "      print(b,\":value is even\")\n",
        "elif b%1==0:\n",
        "      print(b,\":value is odd\")\n",
        "else:\n",
        "      pass"
      ],
      "metadata": {
        "id": "ky9UL_4hMeSq"
      },
      "execution_count": null,
      "outputs": []
    },
    {
      "cell_type": "code",
      "source": [
        "#Write a program to determine if a person is eligible to vote (age must be 18 or above).\n",
        "c=int(input(\"enter c value:\"))\n",
        "if c>=18:\n",
        "      print(c,\":you are elgible for vote\")\n",
        "elif c==15:\n",
        "      print(c,\":you want to take permission from your parents/guardian\")\n",
        "else:\n",
        "      print(c,\":you are not elgible for vote\")"
      ],
      "metadata": {
        "id": "yTAa1EmMMkew"
      },
      "execution_count": null,
      "outputs": []
    },
    {
      "cell_type": "code",
      "source": [
        "#Write a program that asks the user for a password. If the password is \"Python123\", print \"Access granted\", otherwise print \"Access denied\".\n",
        "d=str(input(\"enter d value:\"))\n",
        "print(\"user name:\",d)\n",
        "e=str(input(\"enter e value:\"))\n",
        "if e==\"python123\":\n",
        "      print(\"access granted\")\n",
        "else:\n",
        "      print(\"access denied\")"
      ],
      "metadata": {
        "id": "Px-lG1DoMyOv"
      },
      "execution_count": null,
      "outputs": []
    },
    {
      "cell_type": "code",
      "source": [
        "#If-elif-else statements\n",
        "#Write a program that checks if a given year is a leap year or not.\n",
        "f=int(input(\"enter f value:\"))\n",
        "if  f%400==0:\n",
        "      print(f,\"is a leap year\")\n",
        "elif f%400!=400:\n",
        "      print(f,\" is a non leap year\")\n",
        "else:\n",
        "      print(f,\"none of the above\")"
      ],
      "metadata": {
        "id": "fNll5fQZM42n"
      },
      "execution_count": null,
      "outputs": []
    },
    {
      "cell_type": "code",
      "source": [
        "# Write a program that asks the user to enter marks and assigns grades as follows:\n",
        "# 90-100: A\n",
        "# 80-89: B\n",
        "# 70-79: C\n",
        "# 60-69: D\n",
        "# Below 60: F\n",
        "g=int(input(\"enter g value:\"))\n",
        "if g<=100 and g==90:\n",
        "      print(g,\"A-TOPPER\")\n",
        "elif g<=80 and g==89:\n",
        "      print(g,\"B-BELOW TOPPER\")\n",
        "elif g<=70 and g==79:\n",
        "      print(g,\"C-AVERGE\")\n",
        "elif g<=60 and g==69:\n",
        "      print(g,\"D-BELOW AVERAGE\")\n",
        "elif g>60:\n",
        "      print(g,\"E-POOR\")\n",
        "else:\n",
        "      print(g,\"F-VERY POOR\")\n"
      ],
      "metadata": {
        "id": "vRTuK5TlM-Ov"
      },
      "execution_count": null,
      "outputs": []
    },
    {
      "cell_type": "code",
      "source": [
        "# Write a Python program that takes a temperature input in Celsius and categorizes it as:\n",
        "# Below 0°C: \"Freezing\"\n",
        "# 0-15°C: \"Cold\"\n",
        "# 16-30°C: \"Warm\"\n",
        "# Above 30°C: \"Hot\"\n",
        "h=float(input(\"enter h value:\"))\n",
        "if  h<0:\n",
        "      print(h,\":Freezing\")\n",
        "elif  h<=15 and h==0:\n",
        "      print(h,\":Cold\")\n",
        "elif h<=30 and h==16:\n",
        "      print(h, \":Warm\")\n",
        "elif h>30 and h<100:\n",
        "      print(h,\":Hot\")\n",
        "else:\n",
        "      print(h,\":neutral\")"
      ],
      "metadata": {
        "id": "AockapHYNFJQ"
      },
      "execution_count": null,
      "outputs": []
    },
    {
      "cell_type": "code",
      "source": [
        "# Write a program to calculate BMI using:\n",
        "# BMI = weight / height²\n",
        "# BMI < 18.5 → Underweight\n",
        "# 18.5–24.9 → Normal\n",
        "# 25–29.9 → Overweight\n",
        "# 30 or above → Obese\n",
        "weight=float(input(\"enter weight value:\"))\n",
        "height=float(input(\"enter height value:\"))\n",
        "BMI=weight/height*height\n",
        "if BMI<18.5:\n",
        "      print(BMI,\":UNDERWEIGHT\")\n",
        "elif BMI<=24.9 and BMI<=18.5:\n",
        "      print(BMI,\":NORMAL\")\n",
        "elif BMI<=29.9 and BMI<=25:\n",
        "      print(BMI,\":OVERWEIGHT\")\n",
        "elif BMI>=30:\n",
        "      print(BMI,\":OBESE\")\n",
        "else:\n",
        "      print(BMI,\":VERY OVER OBESR\")"
      ],
      "metadata": {
        "id": "kbydL1oANK82"
      },
      "execution_count": null,
      "outputs": []
    },
    {
      "cell_type": "code",
      "source": [
        "#Nested If Questions:\n",
        "# Write a program that takes three numbers as input and finds the largest among them using nested if statements.\n",
        "i=int(input(\"enter i value:\"))\n",
        "j=int(input(\"enter j value:\"))\n",
        "k=int(input(\"enter k value:\"))\n",
        "if i>k and i>j:\n",
        "      print(i,\":the largest number\")\n",
        "elif j>k and j>i:\n",
        "      print(j,\":the largest number\")\n",
        "elif k>i and k>j:\n",
        "      print(k,\"the largest number\")\n",
        "else:\n",
        "      print(\":all are equal\")"
      ],
      "metadata": {
        "id": "ROtPk4jeNRv3"
      },
      "execution_count": null,
      "outputs": []
    },
    {
      "cell_type": "code",
      "source": [
        "# Write a Python program to check if a person is eligible for a loan. The conditions are:\n",
        "# Age must be 21 or older\n",
        "# Monthly salary must be at least $2000\n",
        "# If salary is below $3000, a guarantor is required\n",
        "l=str(input(\"enter l value:\"))\n",
        "m=int(input(\"enter m value:\"))\n",
        "m1=int(input(\"enter m1 value:\"))\n",
        "if m>=21 and m1>=2000:\n",
        "      print(m,\": is elgible to take a loan\")\n",
        "      print(m1,\":monthly is also elgible for loan\")\n",
        "      print(l,\"your loan has been successful\")\n",
        "else:\n",
        "      print(l,\":salary is below $3000, a guarantor is required\")"
      ],
      "metadata": {
        "id": "MOuzbZiHNYDO"
      },
      "execution_count": null,
      "outputs": []
    },
    {
      "cell_type": "code",
      "source": [
        "#Logical Operators Questions:\n",
        "# Write a Python program that checks if a number is divisible by both 3 and 5.\n",
        "n=int(input(\"enter n value:\"))\n",
        "if n%3==0 and n%5==0:\n",
        "      print(n,\": is divisible by 3 and 5\")\n",
        "else:\n",
        "      print(n,\"is not divisible by  both 3 and 5\")"
      ],
      "metadata": {
        "id": "VlUFkLDZNeiA"
      },
      "execution_count": null,
      "outputs": []
    },
    {
      "cell_type": "code",
      "source": [
        "#Write a program that asks the user for their username and password. If both match the predefined values, print \"Login successful\"; otherwise, print \"Invalid credentials\".\n",
        "user_name=\"R.Megha Shyam\"\n",
        "pass_word=\"Shyamu@345\"\n",
        "o=str(input(\"enter o value:\"))\n",
        "p=str(input(\"enter p value:\"))\n",
        "if o==user_name and p==pass_word:\n",
        "      print(o,\":user name\\n\",p,\":pass word\\n\",\"Login successful\")\n",
        "else:\n",
        "      print (\"Invalid credentials\")"
      ],
      "metadata": {
        "id": "uGlaanYHNjoA"
      },
      "execution_count": null,
      "outputs": []
    },
    {
      "cell_type": "code",
      "source": [
        "#Write a program that checks if a triangle is valid based on the sum of its three angles (should be 180 degrees).\n",
        "q=int(input(\"enter q value:\"))\n",
        "r=int(input(\"enter r value:\"))\n",
        "s=int(input(\"enter s value:\"))\n",
        "t=q+r+s\n",
        "if t==180:\n",
        "      print(t,\"triangle is valid based on the sum of its three angles\")\n",
        "else:\n",
        "      print(t,\"triangle is not valid based on the sum of its three angles\")"
      ],
      "metadata": {
        "id": "NudhsfC9Np7W"
      },
      "execution_count": null,
      "outputs": []
    }
  ]
}