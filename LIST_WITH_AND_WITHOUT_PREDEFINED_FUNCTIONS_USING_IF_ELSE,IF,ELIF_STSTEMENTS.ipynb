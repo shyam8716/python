{
  "nbformat": 4,
  "nbformat_minor": 0,
  "metadata": {
    "colab": {
      "provenance": [],
      "authorship_tag": "ABX9TyOSUXUWh83jS/mZdzP4xH55",
      "include_colab_link": true
    },
    "kernelspec": {
      "name": "python3",
      "display_name": "Python 3"
    },
    "language_info": {
      "name": "python"
    }
  },
  "cells": [
    {
      "cell_type": "markdown",
      "metadata": {
        "id": "view-in-github",
        "colab_type": "text"
      },
      "source": [
        "<a href=\"https://colab.research.google.com/github/shyam8716/python/blob/main/LIST_WITH_AND_WITHOUT_PREDEFINED_FUNCTIONS_USING_IF_ELSE%2CIF%2CELIF_STSTEMENTS.ipynb\" target=\"_parent\"><img src=\"https://colab.research.google.com/assets/colab-badge.svg\" alt=\"Open In Colab\"/></a>"
      ]
    },
    {
      "cell_type": "code",
      "execution_count": null,
      "metadata": {
        "id": "lcFePGjQN-Ub",
        "colab": {
          "base_uri": "https://localhost:8080/"
        },
        "outputId": "3615c76e-cb5d-481f-f6b8-f5119d3295d2"
      },
      "outputs": [
        {
          "output_type": "stream",
          "name": "stdout",
          "text": [
            "enter v value:1\n",
            "exists\n"
          ]
        }
      ],
      "source": [
        "#check if a given element exists in a list using count() and print “Exists” or “Doesn’t exist”.\n",
        "u=[1,2,\"qwer\",4.5]\n",
        "v=int(input(\"enter v value:\"))\n",
        "if u.count(v)>0:\n",
        "    print(\"exists\")\n",
        "else:\n",
        "    print(\"not exists\")"
      ]
    },
    {
      "cell_type": "code",
      "source": [
        "# Add a new number to the end of a list using append() only if the number is greater than 50.\n",
        "w=[10,20,30,40,50,60,70,80,90,100,\"tyui\",5.6]\n",
        "x=int(input(\"enter x value\"))\n",
        "if w [0]> 50:\n",
        "    w.append(x)\n",
        "    print(\"yes greater:\",w)\n",
        "else:\n",
        "    print(\"not greater:\",w)"
      ],
      "metadata": {
        "id": "J6i2Z1jJOC7G",
        "colab": {
          "base_uri": "https://localhost:8080/"
        },
        "outputId": "bdbfdca1-701f-4a21-b821-be9e1fe97194"
      },
      "execution_count": null,
      "outputs": [
        {
          "output_type": "stream",
          "name": "stdout",
          "text": [
            "enter x value2\n",
            "not greater: [10, 20, 30, 40, 50, 60, 70, 80, 90, 100, 'tyui', 5.6]\n"
          ]
        }
      ]
    },
    {
      "cell_type": "code",
      "source": [
        "# Remove a given element from the list using remove() only if it exists; otherwise print “Not found”.\n",
        "y=int(input(\"enter a element\"))\n",
        "z=[5,10,15,20,30,\"oplk\",6.7]\n",
        "if y in z:\n",
        "    z.remove(y)\n",
        "    print('exists',z)\n",
        "else:\n",
        "    print('Not found',z)"
      ],
      "metadata": {
        "id": "4WRQHnuDOHKW",
        "colab": {
          "base_uri": "https://localhost:8080/"
        },
        "outputId": "11189a04-34b7-42c2-88ad-b2e34aaf7034"
      },
      "execution_count": null,
      "outputs": [
        {
          "output_type": "stream",
          "name": "stdout",
          "text": [
            "enter a element3\n",
            "Not found [5, 10, 15, 20, 30, 'oplk', 6.7]\n"
          ]
        }
      ]
    },
    {
      "cell_type": "code",
      "source": [
        "#Insert a number at the 2nd position using insert() only if the number is positive.\n",
        "Z=[\"jhgf\",7.8]\n",
        "Y=int(input(\"enter Y value\"))\n",
        "if Y > 0:\n",
        "  Z.insert(4, Y)\n",
        "  print(\"positive\",Z)\n",
        "else:\n",
        "  print(\"not positive\",Z)"
      ],
      "metadata": {
        "colab": {
          "base_uri": "https://localhost:8080/"
        },
        "id": "hLw8wgCdgsLC",
        "outputId": "3d0e107d-28a3-4704-8f46-4534d83198b8"
      },
      "execution_count": null,
      "outputs": [
        {
          "output_type": "stream",
          "name": "stdout",
          "text": [
            "enter Y value4\n",
            "positive ['jhgf', 7.8, 4]\n"
          ]
        }
      ]
    },
    {
      "cell_type": "code",
      "source": [
        "#Pop the last element from a list using pop() if the list has more than 3 elements.\n",
        "X=[35,\"dsaz\",8.9,40]\n",
        "if len(X)>3:\n",
        "   X.pop()\n",
        "   print(\"Not have saficient space\",X)\n",
        "else:\n",
        "  print(\"have saficient space\",X)"
      ],
      "metadata": {
        "colab": {
          "base_uri": "https://localhost:8080/"
        },
        "id": "ZDdhynUeieVK",
        "outputId": "8bdafba5-2193-4b18-d14b-0f3f9e74962c"
      },
      "execution_count": null,
      "outputs": [
        {
          "output_type": "stream",
          "name": "stdout",
          "text": [
            "Not have saficient space [35, 'dsaz', 8.9]\n"
          ]
        }
      ]
    },
    {
      "cell_type": "code",
      "source": [
        "#Sort a list using sort() only if the first element is greater than 10.\n",
        "W=[45,9.0,50]\n",
        "if W[0] > 10:\n",
        "  W.sort()\n",
        "  print(\"yes greater than 10\",W)\n",
        "else:\n",
        "  print(\"not greater than 10\",W)"
      ],
      "metadata": {
        "colab": {
          "base_uri": "https://localhost:8080/"
        },
        "id": "3gqcbs7bqRNM",
        "outputId": "796c27dd-54d1-430b-cea8-637d8c484e44"
      },
      "execution_count": null,
      "outputs": [
        {
          "output_type": "stream",
          "name": "stdout",
          "text": [
            "yes greater than 10 [9.0, 45, 50]\n"
          ]
        }
      ]
    },
    {
      "cell_type": "code",
      "source": [
        "#Reverse a list using reverse() only if the last element is even.\n",
        "U=[55,10.0,60]\n",
        "if U[-1]%2==0:\n",
        "  U.reverse()\n",
        "  print(\"yes,even,reversed\",U)\n",
        "else:\n",
        "  print(\"no odd,not reversed\",U)"
      ],
      "metadata": {
        "colab": {
          "base_uri": "https://localhost:8080/"
        },
        "id": "HBWJjnyiE_5E",
        "outputId": "57682e3d-784a-4b6e-f336-ab58c848ed00"
      },
      "execution_count": null,
      "outputs": [
        {
          "output_type": "stream",
          "name": "stdout",
          "text": [
            "yes,even,reversed [60, 10.0, 55]\n"
          ]
        }
      ]
    },
    {
      "cell_type": "code",
      "source": [
        "#Use index() to find the position of an element and print “Found at index X” if it exists, else “Not found\n",
        "S=[65,0.1,\"dsaz\"]\n",
        "if S.index(0.1)==1:\n",
        "  print(\"Found at index  1\",S)\n",
        "else:\n",
        "  print(\"Not found\",S)"
      ],
      "metadata": {
        "colab": {
          "base_uri": "https://localhost:8080/"
        },
        "id": "kkInmUs4KyWT",
        "outputId": "785c8caf-f72d-4c99-897b-372bcfe25975"
      },
      "execution_count": null,
      "outputs": [
        {
          "output_type": "stream",
          "name": "stdout",
          "text": [
            "Found at index  1 [65, 0.1, 'dsaz']\n"
          ]
        }
      ]
    },
    {
      "cell_type": "code",
      "source": [
        "#Make a copy of a list using copy() and check if the first element of both lists is equal.\n",
        "R=[65,0.2,\"xcvb\",70]\n",
        "if R[0]==S[0]:\n",
        "  T=S.copy()\n",
        "  print(\"yes equal:\",T)\n",
        "else:\n",
        "  print(\"not equal:\",S)"
      ],
      "metadata": {
        "colab": {
          "base_uri": "https://localhost:8080/"
        },
        "id": "B4tSyWA7MOSj",
        "outputId": "1f5ab56e-40cc-4e1a-fa3b-83d3a176d277"
      },
      "execution_count": null,
      "outputs": [
        {
          "output_type": "stream",
          "name": "stdout",
          "text": [
            "yes equal: [65, 0.1, 'dsaz']\n"
          ]
        }
      ]
    },
    {
      "cell_type": "code",
      "source": [
        "##Clear a list using clear() only if the sum of elements is greater than 100.\n",
        "P=[70,0.3]\n",
        "if sum(P)>100:\n",
        "  P.clear()\n",
        "  print(\"yes greater than 100\",P)\n",
        "else:\n",
        "  print(\"not greater than 100\",P)"
      ],
      "metadata": {
        "colab": {
          "base_uri": "https://localhost:8080/"
        },
        "id": "KgqZcl8Ql_Me",
        "outputId": "526a6bf6-a0f4-4cba-9b0d-ca7aa53dab3f"
      },
      "execution_count": null,
      "outputs": [
        {
          "output_type": "stream",
          "name": "stdout",
          "text": [
            "not greater than 100 [70, 0.3]\n"
          ]
        }
      ]
    },
    {
      "cell_type": "code",
      "source": [
        "#Check if a given number is present in a list without using any functions and print “Yes” or “No”\n",
        "O=[75,0.4,\"mnBV\"]\n",
        "N=[75,0.5,\"CXZA\"]\n",
        "if O in N:\n",
        "  print(\"no\",N)\n",
        "else:\n",
        "  print(\"yes\",O)\n"
      ],
      "metadata": {
        "colab": {
          "base_uri": "https://localhost:8080/"
        },
        "id": "ypG6SxcvycNz",
        "outputId": "94f0cfa4-6590-4a66-c0b9-1216a164ca1c"
      },
      "execution_count": 6,
      "outputs": [
        {
          "output_type": "stream",
          "name": "stdout",
          "text": [
            "yes [75, 0.4, 'mnBV']\n"
          ]
        }
      ]
    },
    {
      "cell_type": "code",
      "source": [
        "#Compare the first and last elements of a list and print which one is greater\n",
        "M=[80,0.5,70]\n",
        "if M[0]<M[2]:\n",
        "  print(\"yes\",M[0])\n",
        "else:\n",
        "  print(\"no\",M[2])"
      ],
      "metadata": {
        "colab": {
          "base_uri": "https://localhost:8080/"
        },
        "id": "EkftDkFP0sIa",
        "outputId": "e252d056-50b2-40bc-e541-a67d91843e33"
      },
      "execution_count": 8,
      "outputs": [
        {
          "output_type": "stream",
          "name": "stdout",
          "text": [
            "yes 8\n"
          ]
        }
      ]
    }
  ]
}